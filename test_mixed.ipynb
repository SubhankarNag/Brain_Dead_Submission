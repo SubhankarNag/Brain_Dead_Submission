{
 "cells": [
  {
   "attachments": {},
   "cell_type": "markdown",
   "metadata": {},
   "source": [
    "### Required Modules"
   ]
  },
  {
   "cell_type": "code",
   "execution_count": 13,
   "metadata": {},
   "outputs": [],
   "source": [
    "import torch.nn.functional as F \n",
    "import torch\n",
    "import torch.nn as nn\n",
    "import torchvision\n",
    "from torchvision import datasets, transforms\n",
    "import numpy as np\n",
    "import os"
   ]
  },
  {
   "attachments": {},
   "cell_type": "markdown",
   "metadata": {},
   "source": [
    "### Dataset And Dataloader"
   ]
  },
  {
   "cell_type": "code",
   "execution_count": 14,
   "metadata": {},
   "outputs": [],
   "source": [
    "rand_seed = 3407\n",
    "np.random.seed(rand_seed)\n",
    "torch.manual_seed(rand_seed)\n",
    "torch.cuda.manual_seed(rand_seed)\n",
    "\n",
    "data_folder = 'brain_dead_mixed'\n",
    "# /home/sysadm/Workspace/Brain Dead/data/brain_dead_emotion_detection/AUG_Train\n",
    "sets = [\"Train\", \"Test\"]\n",
    "\n",
    "device = torch.device(\"cuda\" if torch.cuda.is_available() else \"cpu\")\n",
    "\n",
    "mean = np.array([0.485, 0.456, 0.406])\n",
    "std = np.array([0.229, 0.224, 0.225])\n",
    "\n",
    "num_classes = 4\n",
    "batch_size = 4\n",
    "epochs = 50\n",
    "lr = 0.0001\n",
    "image_size= 299\n",
    "n_workers = 10\n",
    "\n",
    "\n",
    "\n",
    "data_transform = {\n",
    "    sets[0]: transforms.Compose([\n",
    "        transforms.Resize(image_size),\n",
    "\n",
    "        transforms.GaussianBlur(kernel_size=(5, 9), sigma=(0.1, 5)),\n",
    "\n",
    "        transforms.RandomHorizontalFlip(0.5),\n",
    "        transforms.ColorJitter(brightness=0.5, hue=0.3),\n",
    "        transforms.RandomRotation(50),\n",
    "        \n",
    "        transforms.ToTensor(),\n",
    "        transforms.Normalize(mean, std),\n",
    "        \n",
    "        transforms.RandomErasing(p=0.4),\n",
    "\n",
    "        ]),\n",
    "    sets[1]: transforms.Compose([\n",
    "        transforms.Resize(image_size),\n",
    "        transforms.ToTensor(),\n",
    "        transforms.Normalize(mean, std)])\n",
    "}\n",
    "data_dir = os.path.join('./data', data_folder)\n",
    "image_dataset = {x: datasets.ImageFolder(\n",
    "    os.path.join(data_dir, x), data_transform[x]) for x in sets}\n",
    "\n",
    "dataloaders = {x: torch.utils.data.DataLoader(\n",
    "    image_dataset[x], batch_size=batch_size, shuffle=True, num_workers=n_workers, pin_memory=True) for x in sets}\n",
    "\n",
    "dataset_size = {x: len(image_dataset[x]) for x in sets}"
   ]
  },
  {
   "attachments": {},
   "cell_type": "markdown",
   "metadata": {},
   "source": [
    "### Bi-Linear Convolution Neural Network Model, backboned with resnet18 (Trained on IMAGENET)"
   ]
  },
  {
   "cell_type": "code",
   "execution_count": null,
   "metadata": {},
   "outputs": [],
   "source": [
    "class BCNN(nn.Module):\n",
    "    def __init__(self, num_classes, pretrained=True):\n",
    "        super(BCNN, self).__init__()\n",
    "        features = torchvision.models.resnet18(pretrained=pretrained)\n",
    "        self.conv = nn.Sequential(*list(features.children())[:-2])\n",
    "\n",
    "        self.fc = nn.Sequential(\n",
    "            nn.Linear(512 * 512, 256),\n",
    "            nn.Dropout(0.3),\n",
    "            nn.LeakyReLU(),\n",
    "            nn.Linear(256, 16),\n",
    "            nn.LeakyReLU(),\n",
    "            nn.Linear(16, num_classes)\n",
    "            )\n",
    "        \n",
    "\n",
    "    def forward(self, input):\n",
    "        features = self.conv(input)\n",
    "        features = features.view(features.size(0), 512, 10 * 10)\n",
    "        features_T = torch.transpose(features, 1, 2)\n",
    "        features = torch.bmm(features, features_T) / (10 * 10)\n",
    "        features = features.view(features.size(0), 512 * 512)\n",
    "        features = torch.sign(features) * torch.sqrt(torch.abs(features) + 1e-12)\n",
    "        features = torch.nn.functional.normalize(features)\n",
    "        out = self.fc(features)\n",
    "        return out\n",
    "\n",
    "model = BCNN(num_classes=num_classes)"
   ]
  },
  {
   "attachments": {},
   "cell_type": "markdown",
   "metadata": {},
   "source": [
    "### Getting Predictions on Test Data"
   ]
  },
  {
   "cell_type": "code",
   "execution_count": 16,
   "metadata": {},
   "outputs": [],
   "source": [
    "checkpoint = torch.load('./output/best_model_mixed_wAug.pt')\n",
    "model = BCNN(num_classes=num_classes)\n",
    "\n",
    "model.load_state_dict(checkpoint['model'])\n",
    "model.to(device)\n",
    "model.eval()\n",
    "\n",
    "y_true, y_pred = [], []\n",
    "for input, label in dataloaders[sets[1]]:\n",
    "    input = input.to(device)\n",
    "    label = label.to(device)\n",
    "\n",
    "    with torch.no_grad():\n",
    "        output = model(input)\n",
    "        _, pred = torch.max(output, 1)\n",
    "\n",
    "        y_true += label.tolist()\n",
    "        y_pred += pred.tolist()"
   ]
  },
  {
   "attachments": {},
   "cell_type": "markdown",
   "metadata": {},
   "source": [
    "### Precision, Recall, F1-score, Suppoort, Accuracy"
   ]
  },
  {
   "cell_type": "code",
   "execution_count": 17,
   "metadata": {},
   "outputs": [
    {
     "name": "stdout",
     "output_type": "stream",
     "text": [
      "              precision    recall  f1-score   support\n",
      "\n",
      "           0       0.85      0.79      0.82        80\n",
      "           1       0.77      0.75      0.76       105\n",
      "           2       0.70      0.78      0.74       102\n",
      "           3       0.82      0.79      0.81        82\n",
      "\n",
      "    accuracy                           0.78       369\n",
      "   macro avg       0.79      0.78      0.78       369\n",
      "weighted avg       0.78      0.78      0.78       369\n",
      "\n"
     ]
    }
   ],
   "source": [
    "from sklearn.metrics import classification_report\n",
    "\n",
    "print(classification_report(y_true, y_pred))"
   ]
  },
  {
   "attachments": {},
   "cell_type": "markdown",
   "metadata": {},
   "source": [
    "### Confusion Matrix"
   ]
  },
  {
   "cell_type": "code",
   "execution_count": 18,
   "metadata": {},
   "outputs": [
    {
     "data": {
      "image/png": "[encoded data removed]",
      "text/plain": [
       "<Figure size 432x288 with 2 Axes>"
      ]
     },
     "metadata": {
      "needs_background": "light"
     },
     "output_type": "display_data"
    }
   ],
   "source": [
    "import seaborn as sns\n",
    "from sklearn.metrics import confusion_matrix\n",
    "import pandas as pd\n",
    "import matplotlib.pyplot as plt\n",
    "%matplotlib inline\n",
    "\n",
    "def show_confusion_matrix(confusion_matrix):\n",
    "    hmap = sns.heatmap(confusion_matrix, annot=True, fmt=\"d\", cmap=\"Blues\")\n",
    "    hmap.yaxis.set_ticklabels(hmap.yaxis.get_ticklabels(), rotation=0, ha='right')\n",
    "    hmap.xaxis.set_ticklabels(hmap.xaxis.get_ticklabels(), rotation=30, ha='right')\n",
    "    plt.ylabel('True sentiment')\n",
    "    plt.xlabel('Predicted sentiment')\n",
    "   \n",
    "cm = confusion_matrix(y_true, y_pred)\n",
    "df_cm = pd.DataFrame(cm)\n",
    "\n",
    "show_confusion_matrix(df_cm)\n"
   ]
  }
 ],
 "metadata": {
  "kernelspec": {
   "display_name": "Python 3",
   "language": "python",
   "name": "python3"
  },
  "language_info": {
   "codemirror_mode": {
    "name": "ipython",
    "version": 3
   },
   "file_extension": ".py",
   "mimetype": "text/x-python",
   "name": "python",
   "nbconvert_exporter": "python",
   "pygments_lexer": "ipython3",
   "version": "3.8.10"
  },
  "orig_nbformat": 4
 },
 "nbformat": 4,
 "nbformat_minor": 2
}
