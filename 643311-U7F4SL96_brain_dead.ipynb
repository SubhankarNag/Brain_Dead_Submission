{
 "cells": [
  {
   "attachments": {},
   "cell_type": "markdown",
   "metadata": {},
   "source": [
    "### Required Modules"
   ]
  },
  {
   "cell_type": "code",
   "execution_count": 11,
   "metadata": {},
   "outputs": [],
   "source": [
    "import torch.nn.functional as F \n",
    "import torch\n",
    "import torch.nn as nn\n",
    "import torchvision\n",
    "from torchvision import datasets, transforms\n",
    "import numpy as np\n",
    "import os"
   ]
  },
  {
   "attachments": {},
   "cell_type": "markdown",
   "metadata": {},
   "source": [
    "### Dataset And Dataloader"
   ]
  },
  {
   "cell_type": "code",
   "execution_count": 12,
   "metadata": {},
   "outputs": [],
   "source": [
    "rand_seed = 3407\n",
    "np.random.seed(rand_seed)\n",
    "torch.manual_seed(rand_seed)\n",
    "torch.cuda.manual_seed(rand_seed)\n",
    "\n",
    "data_folder = 'brain_dead_emotion_detection'\n",
    "# /home/sysadm/Workspace/Brain Dead/data/brain_dead_emotion_detection/AUG_Train\n",
    "sets = [\"Train\", \"Test\"]\n",
    "\n",
    "device = torch.device(\"cuda\" if torch.cuda.is_available() else \"cpu\")\n",
    "\n",
    "mean = np.array([0.485, 0.456, 0.406])\n",
    "std = np.array([0.229, 0.224, 0.225])\n",
    "\n",
    "num_classes = 4\n",
    "batch_size = 4\n",
    "epochs = 50\n",
    "lr = 0.0001\n",
    "image_size= 299\n",
    "n_workers = 10\n",
    "\n",
    "\n",
    "\n",
    "data_transform = {\n",
    "    sets[0]: transforms.Compose([\n",
    "        transforms.Resize(image_size),\n",
    "        transforms.RandomHorizontalFlip(0.5),\n",
    "        transforms.ColorJitter(brightness=0.5, hue=0.3),\n",
    "        transforms.RandomRotation(50),\n",
    "        transforms.ToTensor(),\n",
    "        transforms.Normalize(mean, std)]),\n",
    "    sets[1]: transforms.Compose([\n",
    "        transforms.Resize(image_size),\n",
    "        transforms.ToTensor(),\n",
    "        transforms.Normalize(mean, std)])\n",
    "}\n",
    "data_dir = os.path.join('./data', data_folder)\n",
    "image_dataset = {x: datasets.ImageFolder(\n",
    "    os.path.join(data_dir, x), data_transform[x]) for x in sets}\n",
    "\n",
    "dataloaders = {x: torch.utils.data.DataLoader(\n",
    "    image_dataset[x], batch_size=batch_size, shuffle=True, num_workers=n_workers, pin_memory=True) for x in sets}\n",
    "\n",
    "dataset_size = {x: len(image_dataset[x]) for x in sets}"
   ]
  },
  {
   "attachments": {},
   "cell_type": "markdown",
   "metadata": {},
   "source": [
    "### Bi-Linear Convolution Neural Network Model, backboned with resnet18 (Trained on IMAGENET)"
   ]
  },
  {
   "cell_type": "code",
   "execution_count": 13,
   "metadata": {},
   "outputs": [],
   "source": [
    "class BCNN(nn.Module):\n",
    "    def __init__(self, num_classes, pretrained=True):\n",
    "        super(BCNN, self).__init__()\n",
    "        features = torchvision.models.resnet18(pretrained=pretrained)\n",
    "        self.conv = nn.Sequential(*list(features.children())[:-2])\n",
    "        \n",
    "        self.fc = nn.Sequential( # _n\n",
    "            nn.Linear(512 * 512, 256),\n",
    "            nn.LayerNorm(256),\n",
    "            nn.LeakyReLU(),\n",
    "            nn.Dropout(0.3),\n",
    "            nn.Linear(256, 16),\n",
    "            )\n",
    "\n",
    "\n",
    "    def forward(self, input):\n",
    "        features = self.conv(input)\n",
    "        features = features.view(features.size(0), 512, 10 * 10)\n",
    "        features_T = torch.transpose(features, 1, 2)\n",
    "        features = torch.bmm(features, features_T) / (10 * 10)\n",
    "        features = features.view(features.size(0), 512 * 512)\n",
    "        features = torch.sign(features) * torch.sqrt(torch.abs(features) + 1e-12)\n",
    "        features = torch.nn.functional.normalize(features)\n",
    "        out = self.fc(features)\n",
    "        return out\n",
    "\n",
    "model = BCNN(num_classes=num_classes)"
   ]
  },
  {
   "attachments": {},
   "cell_type": "markdown",
   "metadata": {},
   "source": [
    "### Main Train Loop"
   ]
  },
  {
   "cell_type": "code",
   "execution_count": null,
   "metadata": {},
   "outputs": [],
   "source": [
    "criterion = nn.CrossEntropyLoss()\n",
    "optimizer = torch.optim.AdamW(model.parameters(), lr=lr)\n",
    "scheduler = torch.optim.lr_scheduler.ReduceLROnPlateau(optimizer, 'min', factor=0.3, patience=3)\n",
    "\n",
    "\n",
    "model.cuda()\n",
    "\n",
    "max_test_acc = 0\n",
    "\n",
    "loss_acc = {'loss':{'Train':[], 'Test':[]}, 'acc':{'Train':[], 'Test':[]}}\n",
    "for e in range(epochs):\n",
    "\n",
    "    for phase in sets:\n",
    "        if phase == sets[0]:\n",
    "            model.train()\n",
    "        else:\n",
    "            model.eval()\n",
    "\n",
    "        running_loss = 0\n",
    "        running_correct = 0\n",
    "\n",
    "        for input, label in dataloaders[phase]:\n",
    "            input = input.to(device)\n",
    "            label = label.to(device)\n",
    "\n",
    "            with torch.set_grad_enabled(phase == sets[0]):\n",
    "                output = model(input)\n",
    "                _, pred = torch.max(output, 1)\n",
    "                loss = criterion(output, label)\n",
    "\n",
    "                if phase == sets[0]:\n",
    "                    optimizer.zero_grad()\n",
    "                    loss.backward()\n",
    "                    optimizer.step()\n",
    "\n",
    "            running_loss += loss.item() * input.size(0)\n",
    "            running_correct += torch.sum(pred == label.data)\n",
    "\n",
    "        epoch_loss = running_loss / dataset_size[phase]\n",
    "        epoch_acc = running_correct.double() / dataset_size[phase]\n",
    "\n",
    "        if phase == sets[1]:\n",
    "            scheduler.step(epoch_loss)\n",
    "            # save best model\n",
    "            if max_test_acc < epoch_acc:\n",
    "                max_test_acc = epoch_acc\n",
    "                checkpoint = {\n",
    "                    'model':model.state_dict(),\n",
    "                    'optimizer':optimizer.state_dict(),\n",
    "                    'epoch':e\n",
    "                }\n",
    "                torch.save(checkpoint, './output/best_model_lrplateu_n.pt')\n",
    "\n",
    "        loss_acc['loss'][phase].append(epoch_loss)\n",
    "        loss_acc['acc'][phase].append(epoch_acc)\n",
    "        # print(f'{phase}: Epochs = {e}, Loss = {epoch_loss:.3f}, Accuracy = {100*epoch_acc:.2f}')\n",
    "    # print()\n",
    "# print(f'Test accuracy: {max_test_acc}')"
   ]
  },
  {
   "attachments": {},
   "cell_type": "markdown",
   "metadata": {},
   "source": [
    "### Loss vs Epoch And Accuracy vs Epoch plots"
   ]
  },
  {
   "cell_type": "code",
   "execution_count": 15,
   "metadata": {},
   "outputs": [
    {
     "data": {
      "image/png": "[encoded data removed]",
      "text/plain": [
       "<Figure size 1296x432 with 2 Axes>"
      ]
     },
     "metadata": {
      "needs_background": "light"
     },
     "output_type": "display_data"
    }
   ],
   "source": [
    "import matplotlib.pyplot as plt\n",
    "%matplotlib inline\n",
    "\n",
    "train_loss_list, val_loss_list, train_acc_list, val_acc_list = loss_acc['loss']['Train'], loss_acc['loss']['Test'], loss_acc['acc']['Train'], loss_acc['acc']['Test']\n",
    "\n",
    "epoch_count = range(1, len(train_loss_list) + 1)\n",
    "\n",
    "fig = plt.figure(figsize=(18, 6))\n",
    "\n",
    "plt.subplot(1, 2, 1)\n",
    "plt.plot(epoch_count, train_loss_list, 'r--')\n",
    "plt.plot(epoch_count, val_loss_list, 'b--')\n",
    "plt.xlabel('Epoch')\n",
    "plt.ylabel('Loss')\n",
    "plt.legend(['Training Loss', 'Test Loss'])\n",
    "\n",
    "plt.subplot(1, 2, 2)\n",
    "plt.plot(epoch_count, [i.cpu() for i in train_acc_list], 'm-')\n",
    "plt.plot(epoch_count, [i.cpu() for i in val_acc_list], 'g-')\n",
    "plt.xlabel('Epoch')\n",
    "plt.ylabel('Accuracy')\n",
    "\n",
    "plt.legend(['Training Accuracy', 'Test Accuracy'])\n",
    "\n",
    "plt.show()\n"
   ]
  },
  {
   "attachments": {},
   "cell_type": "markdown",
   "metadata": {},
   "source": [
    "### Getting Predictions on Test Data"
   ]
  },
  {
   "cell_type": "code",
   "execution_count": 16,
   "metadata": {},
   "outputs": [],
   "source": [
    "checkpoint = torch.load('./output/best_model_woaug_lrplateu_n.pt')\n",
    "model = BCNN(num_classes=num_classes)\n",
    "\n",
    "model.load_state_dict(checkpoint['model'])\n",
    "model.to(device)\n",
    "model.eval()\n",
    "\n",
    "y_true, y_pred = [], []\n",
    "for input, label in dataloaders[sets[1]]:\n",
    "    input = input.to(device)\n",
    "    label = label.to(device)\n",
    "\n",
    "    with torch.no_grad():\n",
    "        output = model(input)\n",
    "        _, pred = torch.max(output, 1)\n",
    "\n",
    "        y_true += label.tolist()\n",
    "        y_pred += pred.tolist()"
   ]
  },
  {
   "attachments": {},
   "cell_type": "markdown",
   "metadata": {},
   "source": [
    "### Precision, Recall, F1-score, Suppoort, Accuracy"
   ]
  },
  {
   "cell_type": "code",
   "execution_count": 17,
   "metadata": {},
   "outputs": [
    {
     "name": "stdout",
     "output_type": "stream",
     "text": [
      "              precision    recall  f1-score   support\n",
      "\n",
      "           0       0.80      0.84      0.82        80\n",
      "           1       0.81      0.80      0.80       105\n",
      "           2       0.80      0.80      0.80       102\n",
      "           3       0.88      0.84      0.86        82\n",
      "\n",
      "    accuracy                           0.82       369\n",
      "   macro avg       0.82      0.82      0.82       369\n",
      "weighted avg       0.82      0.82      0.82       369\n",
      "\n"
     ]
    }
   ],
   "source": [
    "from sklearn.metrics import classification_report\n",
    "\n",
    "print(classification_report(y_true, y_pred))"
   ]
  },
  {
   "attachments": {},
   "cell_type": "markdown",
   "metadata": {},
   "source": [
    "### Confusion Matrix"
   ]
  },
  {
   "cell_type": "code",
   "execution_count": 18,
   "metadata": {},
   "outputs": [
    {
     "data": {
      "image/png": "[encoded data removed]",
      "text/plain": [
       "<Figure size 432x288 with 2 Axes>"
      ]
     },
     "metadata": {
      "needs_background": "light"
     },
     "output_type": "display_data"
    }
   ],
   "source": [
    "import seaborn as sns\n",
    "from sklearn.metrics import confusion_matrix\n",
    "import pandas as pd\n",
    "\n",
    "def show_confusion_matrix(confusion_matrix):\n",
    "    hmap = sns.heatmap(confusion_matrix, annot=True, fmt=\"d\", cmap=\"Blues\")\n",
    "    hmap.yaxis.set_ticklabels(hmap.yaxis.get_ticklabels(), rotation=0, ha='right')\n",
    "    hmap.xaxis.set_ticklabels(hmap.xaxis.get_ticklabels(), rotation=30, ha='right')\n",
    "    plt.ylabel('True sentiment')\n",
    "    plt.xlabel('Predicted sentiment')\n",
    "   \n",
    "cm = confusion_matrix(y_true, y_pred)\n",
    "df_cm = pd.DataFrame(cm)\n",
    "\n",
    "show_confusion_matrix(df_cm)\n"
   ]
  }
 ],
 "metadata": {
  "kernelspec": {
   "display_name": "Python 3",
   "language": "python",
   "name": "python3"
  },
  "language_info": {
   "codemirror_mode": {
    "name": "ipython",
    "version": 3
   },
   "file_extension": ".py",
   "mimetype": "text/x-python",
   "name": "python",
   "nbconvert_exporter": "python",
   "pygments_lexer": "ipython3",
   "version": "3.8.10"
  },
  "orig_nbformat": 4
 },
 "nbformat": 4,
 "nbformat_minor": 2
}
